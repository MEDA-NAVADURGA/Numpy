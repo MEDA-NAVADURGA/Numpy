{
 "cells": [
  {
   "cell_type": "markdown",
   "id": "168cc373",
   "metadata": {},
   "source": [
    "OPERATIONS ON NDARRAY:-\n",
    "====="
   ]
  },
  {
   "cell_type": "markdown",
   "id": "fbc957a9",
   "metadata": {},
   "source": [
    "                                   ========================================\n",
    "                                         * ARITHMETIC OPERATIONS *\n",
    "                                   ========================================"
   ]
  },
  {
   "cell_type": "markdown",
   "id": "24651999",
   "metadata": {},
   "source": [
    "*add():-\n",
    "-----------\n",
    "     * is used to addition of 2 matrises or arrays.\n",
    "     ==============================================\n",
    "      SYNTAX:- varname=np.add(matrix1,matrix2)\n",
    "     ==============================================\n",
    "     * instead of this function you can use \"+\" operator."
   ]
  },
  {
   "cell_type": "code",
   "execution_count": 1,
   "id": "dbe36514",
   "metadata": {},
   "outputs": [
    {
     "name": "stdout",
     "output_type": "stream",
     "text": [
      "addition matrix= [ 60  80 100 120]\n"
     ]
    }
   ],
   "source": [
    "import numpy as np\n",
    "l1=[10,20,30,40]\n",
    "l2=[50,60,70,80]\n",
    "a=np.array(l1)\n",
    "b=np.array(l2)\n",
    "c=np.add(a,b)\n",
    "print(\"addition matrix=\",c)"
   ]
  },
  {
   "cell_type": "code",
   "execution_count": 3,
   "id": "d2613d42",
   "metadata": {},
   "outputs": [
    {
     "name": "stdout",
     "output_type": "stream",
     "text": [
      "addition matrix= [ 60  80 100 120]\n"
     ]
    }
   ],
   "source": [
    "d=a+b\n",
    "print(\"addition matrix=\",d)"
   ]
  },
  {
   "cell_type": "markdown",
   "id": "f4b989a0",
   "metadata": {},
   "source": [
    "subtract():-\n",
    "-------------------\n",
    "              * is used to subtraction of 2 matrises or arrays.\n",
    "              ===================================================\n",
    "               SYNTAX:- varname=np.subtract(matrix1,matrix2)\n",
    "              ===================================================\n",
    "             * instead of this function you can use \"-\" operator."
   ]
  },
  {
   "cell_type": "code",
   "execution_count": 5,
   "id": "a4b82ce6",
   "metadata": {},
   "outputs": [
    {
     "name": "stdout",
     "output_type": "stream",
     "text": [
      "subtracted matrix= [-40 -40 -40 -40]\n"
     ]
    }
   ],
   "source": [
    "e=np.subtract(a,b)\n",
    "print(\"subtracted matrix=\",e)"
   ]
  },
  {
   "cell_type": "code",
   "execution_count": 6,
   "id": "ba27bb3d",
   "metadata": {},
   "outputs": [
    {
     "name": "stdout",
     "output_type": "stream",
     "text": [
      "subtracted matrix= [-40 -40 -40 -40]\n"
     ]
    }
   ],
   "source": [
    "E=a-b\n",
    "print(\"subtracted matrix=\",e)"
   ]
  },
  {
   "cell_type": "markdown",
   "id": "43d2b434",
   "metadata": {},
   "source": [
    "multiply():-\n",
    "-------------------\n",
    "              * is used to elements multiplication of 2 matrises or arrays.\n",
    "              ===================================================\n",
    "                 SYNTAX:- varname=np.multiply(matrix1,matrix2)\n",
    "              ===================================================\n",
    "             * instead of this function you can use \"*\" operator."
   ]
  },
  {
   "cell_type": "code",
   "execution_count": 11,
   "id": "3a576fb4",
   "metadata": {},
   "outputs": [
    {
     "name": "stdout",
     "output_type": "stream",
     "text": [
      "elements multiplicated matrix= [ 500 1200 2100 3200]\n"
     ]
    }
   ],
   "source": [
    "f=np.multiply(a,b)\n",
    "print(\"elements multiplicated matrix=\",f)"
   ]
  },
  {
   "cell_type": "code",
   "execution_count": 12,
   "id": "632043d0",
   "metadata": {},
   "outputs": [
    {
     "name": "stdout",
     "output_type": "stream",
     "text": [
      "elements multiplicated matrix= [ 500 1200 2100 3200]\n"
     ]
    }
   ],
   "source": [
    "F=a*b\n",
    "print(\"elements multiplicated matrix=\",f)"
   ]
  },
  {
   "cell_type": "markdown",
   "id": "979c203b",
   "metadata": {},
   "source": [
    "dot():-\n",
    "------------\n",
    "          * is used to original multiplication of 2 matrises or arrays.\n",
    "          ===================================================\n",
    "             SYNTAX:- varname=np.dot(matrix1,matrix2)\n",
    "          ===================================================\n",
    "         * we don't know any operators for original multiplication of matrices."
   ]
  },
  {
   "cell_type": "code",
   "execution_count": 14,
   "id": "2ff1eba2",
   "metadata": {},
   "outputs": [
    {
     "name": "stdout",
     "output_type": "stream",
     "text": [
      "original multplicated matrix= 7000\n"
     ]
    }
   ],
   "source": [
    "g=np.dot(a,b)\n",
    "print(\"original multplicated matrix=\",g)"
   ]
  },
  {
   "cell_type": "code",
   "execution_count": 24,
   "id": "49ad07a9",
   "metadata": {},
   "outputs": [
    {
     "name": "stdout",
     "output_type": "stream",
     "text": [
      "original multiplied matrix= [[150 180]\n",
      " [470 580]]\n"
     ]
    }
   ],
   "source": [
    "h=np.array([[10,20],[50,60]])\n",
    "H=np.array([[1,2],[7,8]])\n",
    "print(\"original multiplied matrix=\",np.dot(h,H))"
   ]
  },
  {
   "cell_type": "markdown",
   "id": "f16bf887",
   "metadata": {},
   "source": [
    "divide():-\n",
    "-----------\n",
    "          * is used to division of 2 matrises or arrays.\n",
    "          ===================================================\n",
    "             SYNTAX:- varname=np.divide(matrix1,matrix2)\n",
    "          ===================================================\n",
    "         * instead of this function we can use \"/\" operator."
   ]
  },
  {
   "cell_type": "code",
   "execution_count": 27,
   "id": "19b54a86",
   "metadata": {},
   "outputs": [
    {
     "name": "stdout",
     "output_type": "stream",
     "text": [
      "divided matrix= [0.2        0.33333333 0.42857143 0.5       ]\n"
     ]
    }
   ],
   "source": [
    "i=np.divide(a,b)\n",
    "print(\"divided matrix=\",i)"
   ]
  },
  {
   "cell_type": "code",
   "execution_count": 28,
   "id": "7f423cf5",
   "metadata": {},
   "outputs": [
    {
     "name": "stdout",
     "output_type": "stream",
     "text": [
      "divided matrix=\n",
      "0.2\n",
      "0.3333333333333333\n",
      "0.42857142857142855\n",
      "0.5\n"
     ]
    }
   ],
   "source": [
    "I=a/b\n",
    "print(\"divided matrix=\")\n",
    "for _ in I:\n",
    "    print(_)"
   ]
  },
  {
   "cell_type": "markdown",
   "id": "6e60f5cb",
   "metadata": {},
   "source": [
    "floor_divide():-\n",
    "-----------------\n",
    "      * is used to get integer division of 2 matrises or arrays.\n",
    "      ===================================================\n",
    "         SYNTAX:- varname=np.floor_divide(matrix1,matrix2)\n",
    "      ===================================================\n",
    "     * instead of this function we can use \"//\" operator."
   ]
  },
  {
   "cell_type": "code",
   "execution_count": 30,
   "id": "47ba15f3",
   "metadata": {},
   "outputs": [
    {
     "name": "stdout",
     "output_type": "stream",
     "text": [
      "integer division matrix= [0 0 0 0]\n"
     ]
    }
   ],
   "source": [
    "j=np.floor_divide(a,b)\n",
    "print(\"integer division matrix=\",j)"
   ]
  },
  {
   "cell_type": "code",
   "execution_count": 32,
   "id": "bc391418",
   "metadata": {},
   "outputs": [
    {
     "name": "stdout",
     "output_type": "stream",
     "text": [
      "integer division matrix= [0 0 0 0]\n"
     ]
    }
   ],
   "source": [
    "J=a//b\n",
    "print(\"integer division matrix=\",J)"
   ]
  },
  {
   "cell_type": "markdown",
   "id": "2eeb6ef3",
   "metadata": {},
   "source": [
    "mod():-\n",
    "------------\n",
    "      * is used to get reminder of 2 matrises or arrays.\n",
    "      ===================================================\n",
    "      SYNTAX:- varname=np.mod(matrix1,matrix2)\n",
    "     ===================================================\n",
    "     * instead of this function we can use \"%\" operator."
   ]
  },
  {
   "cell_type": "code",
   "execution_count": 33,
   "id": "fcbacfa9",
   "metadata": {},
   "outputs": [
    {
     "name": "stdout",
     "output_type": "stream",
     "text": [
      "reminders of a and b matrices is= [10 20 30 40]\n"
     ]
    }
   ],
   "source": [
    "k=np.mod(a,b)\n",
    "print(\"reminders of a and b matrices is=\",k)"
   ]
  },
  {
   "cell_type": "code",
   "execution_count": 35,
   "id": "9cd9feed",
   "metadata": {},
   "outputs": [
    {
     "name": "stdout",
     "output_type": "stream",
     "text": [
      "10\n",
      "20\n",
      "30\n",
      "40\n"
     ]
    }
   ],
   "source": [
    "K=a%b\n",
    "for _ in K:\n",
    "    print(_)"
   ]
  },
  {
   "cell_type": "markdown",
   "id": "7c34e8f2",
   "metadata": {},
   "source": [
    "power():-\n",
    "--------\n",
    "       * is used to get integer division of 2 matrises or arrays.\n",
    "      ===================================================\n",
    "          SYNTAX:- varname=np.power(matrix1,matrix2)\n",
    "      ===================================================\n",
    "     * instead of this function we can use \"**\" operator."
   ]
  },
  {
   "cell_type": "code",
   "execution_count": 47,
   "id": "475845f1",
   "metadata": {},
   "outputs": [
    {
     "name": "stdout",
     "output_type": "stream",
     "text": [
      "resultent matrix = [[     10     400]\n",
      " [  27000 2560000]]\n"
     ]
    }
   ],
   "source": [
    "a1=np.array([[10,20],[30,40]])\n",
    "a2=np.array([[1,2],[3,4]])\n",
    "L=np.power(a1,a2)\n",
    "print(\"resultent matrix =\",L)"
   ]
  },
  {
   "cell_type": "code",
   "execution_count": 48,
   "id": "6be49e12",
   "metadata": {},
   "outputs": [
    {
     "name": "stdout",
     "output_type": "stream",
     "text": [
      "resultent matrix =\n",
      "[ 10 400]\n",
      "[  27000 2560000]\n"
     ]
    }
   ],
   "source": [
    "l=a1**a2\n",
    "print(\"resultent matrix =\")\n",
    "for _ in l:\n",
    "    print(_)"
   ]
  }
 ],
 "metadata": {
  "kernelspec": {
   "display_name": "Python 3 (ipykernel)",
   "language": "python",
   "name": "python3"
  },
  "language_info": {
   "codemirror_mode": {
    "name": "ipython",
    "version": 3
   },
   "file_extension": ".py",
   "mimetype": "text/x-python",
   "name": "python",
   "nbconvert_exporter": "python",
   "pygments_lexer": "ipython3",
   "version": "3.11.5"
  }
 },
 "nbformat": 4,
 "nbformat_minor": 5
}
