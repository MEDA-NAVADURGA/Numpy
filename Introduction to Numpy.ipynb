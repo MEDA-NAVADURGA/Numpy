{
 "cells": [
  {
   "cell_type": "markdown",
   "id": "6a2c96d5",
   "metadata": {},
   "source": [
    "                                    ========================================\n",
    "                                             NUMPY(NUMERICAL PYTHON)\n",
    "                                    ========================================\n",
    "*** NumPy is a Python library used for working with arrays.\n",
    "*** It also has functions for working in domain of linear algebra, fourier transform, and matrices.\n",
    "*** NumPy was created in 2005 by Travis Oliphant. It is an open source project and you can use it freely.\n",
    "*** NumPy stands for Numerical Python.\n",
    "\n",
    "IMPORTANCE OF NUMPY:-\n",
    "=======================\n",
    "    *In Python we have lists that serve the purpose of arrays, but they are slow to process.NumPy aims to provide an array          object that is up to 50x faster than traditional Python lists.The array object in NumPy is called ndarray, it provides a        lot of supporting functions that make working with ndarray very easy.Arrays are very frequently used in data science, \n",
    "     where speed and resources are very important.\n",
    "Why is NumPy Faster Than Lists:=\n",
    "=============================\n",
    "    **NumPy arrays are stored at one continuous place in memory unlike lists, so processes can access and manipulate them very        efficiently.\n",
    "                             ======================\n",
    "    *This behavior is called locality of reference in computer science.\n",
    "                             ======================\n",
    "    *This is the main reason why NumPy is faster than lists. Also it is optimized to work with latest CPU architectures.\n",
    "Which Language is NumPy written in:=\n",
    "================================\n",
    "*** NumPy is a Python library and is written partially in Python, but most of the parts that require fast computation are written in C or C++."
   ]
  },
  {
   "cell_type": "markdown",
   "id": "32d4f1d5",
   "metadata": {},
   "source": [
    "                          ======================================================\n",
    "                                     TRADITIONAL LIST (VS) NUMPY MODULE:=\n",
    "                          ======================================================\n",
    " similarities:=\n",
    "================\n",
    "                => An object of list is used to store multiple values of same type or different types of values in single                         object. similarly numpy programming,the data is organized in the object of \"ndarray\" (it is predefined class                   in numpy module).\n",
    "                =>the object of numpy and lists are mutable(changes can takes place in name address).\n",
    "differences:-\n",
    "============\n",
    "        \n",
    "|---------------------------------------------------------|--------------------------------------------------------------|\n",
    "|                      list                               |                                 ndarray                      |     \n",
    "|---------------------------------------------------------|--------------------------------------------------------------|\n",
    "|it stores both homogenious and heterogenious values      | it stores same type only.if you write heteroginous values    |\n",
    "|                                                         |  internally they treat all are same type.                    |     \n",
    "|---------------------------------------------------------|--------------------------------------------------------------|\n",
    "|on list object we can't perform vector operations.       |   on ndarray we can perform vector operations.               |\n",
    "|---------------------------------------------------------|--------------------------------------------------------------|\n",
    "|it takes more memory.                                    |  it takes less memory space.                                 |\n",
    "|---------------------------------------------------------|--------------------------------------------------------------|\n",
    "|list applications are not efficient                      |  ndarray based applications are efficient                    |     \n",
    "|---------------------------------------------------------|--------------------------------------------------------------|\n",
    "|it can't perform complex mathematical operations.        |  it performs complex mathematical operations.                |\n",
    "|---------------------------------------------------------|--------------------------------------------------------------|"
   ]
  }
 ],
 "metadata": {
  "kernelspec": {
   "display_name": "Python 3 (ipykernel)",
   "language": "python",
   "name": "python3"
  },
  "language_info": {
   "codemirror_mode": {
    "name": "ipython",
    "version": 3
   },
   "file_extension": ".py",
   "mimetype": "text/x-python",
   "name": "python",
   "nbconvert_exporter": "python",
   "pygments_lexer": "ipython3",
   "version": "3.11.5"
  }
 },
 "nbformat": 4,
 "nbformat_minor": 5
}
