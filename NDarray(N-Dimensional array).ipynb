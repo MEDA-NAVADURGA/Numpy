{
 "cells": [
  {
   "cell_type": "markdown",
   "id": "ea912921",
   "metadata": {},
   "source": [
    "                                           ================================\n",
    "                                                       ndarray\n",
    "                                           ================================\n",
    "        => ndarray is one of pre-defined class in numpy module.\n",
    "        => an object of ndarray is used to store the data in numpy programming.\n",
    "        => we have 7 ways to create object of ndarray of numpy module.\n",
    "                1.array()\n",
    "                2.arange()\n",
    "                3.zeros()\n",
    "                4.ones()\n",
    "                5.full()\n",
    "                6.eye()\n",
    "                7.identit()\n",
    "array():-\n",
    "========\n",
    "     =>it converts iterable object into ndarray object type.\n",
    "     =====================================================\n",
    "        SYNTAX:- varname=nd.array(iterable object,dtype)\n",
    "     =====================================================\n",
    "     => here varname is an object of <class 'numpy.ndarray'>\n",
    "     => here dtype represents data type of c lang---> int32,int64,float32....etc.\n",
    "     => by this we can creat n-dimensions of array."
   ]
  },
  {
   "cell_type": "code",
   "execution_count": 16,
   "id": "b349e988",
   "metadata": {},
   "outputs": [
    {
     "name": "stdout",
     "output_type": "stream",
     "text": [
      "type of l1= <class 'list'>\n",
      "numpy array= [10 20 30]\n",
      "type of array1= <class 'numpy.ndarray'>\n",
      "datatype of ndarray= int32\n",
      "dimension of array1= 1\n"
     ]
    }
   ],
   "source": [
    "import numpy as nd\n",
    "l1=[10,20,30]\n",
    "array1=nd.array(l1,dtype=int)\n",
    "print(\"type of l1=\",type(l1))\n",
    "print(\"numpy array=\",array1)\n",
    "print(\"type of array1=\",type(array1))\n",
    "print(\"datatype of ndarray=\",array1.dtype)\n",
    "print(\"dimension of array1=\",array1.ndim)"
   ]
  },
  {
   "cell_type": "code",
   "execution_count": 11,
   "id": "a7675667",
   "metadata": {},
   "outputs": [
    {
     "name": "stdout",
     "output_type": "stream",
     "text": [
      "address of 1st element of l1= 140717709235272\n",
      "address of 2nd element of l1= 140717709235592\n",
      "address of 3rd element of l1= 140717709235912\n",
      "adress of 1st elemnt of array1= 1589824589872\n",
      "adress of 2nd elemnt of array1= 1589824589872\n",
      "adress of 3rd elemnt of array1= 1589824589872\n"
     ]
    }
   ],
   "source": [
    "print(\"address of 1st element of l1=\",id(l1[0]))\n",
    "print(\"address of 2nd element of l1=\",id(l1[1]))\n",
    "print(\"address of 3rd element of l1=\",id(l1[2]))\n",
    "print(\"adress of 1st elemnt of array1=\",id(array1[0]))\n",
    "print(\"adress of 2nd elemnt of array1=\",id(array1[1]))\n",
    "print(\"adress of 3rd elemnt of array1=\",id(array1[2]))"
   ]
  },
  {
   "cell_type": "markdown",
   "id": "55b9822d",
   "metadata": {},
   "source": [
    "arange():-\n",
    "============\n",
    "    * it is used to create object of ndarray.\n",
    "    =====================================================\n",
    "      SYNTAX:- varname=nd.arange(start,end,step,dtype)\n",
    "    =====================================================\n",
    "    => by this function we creat only 1-dimensional arrays only.\n",
    "    => so we can convert the 1-dimensional array to any required dimensional array we use reshape() function."
   ]
  },
  {
   "cell_type": "code",
   "execution_count": 3,
   "id": "7e29d77b",
   "metadata": {},
   "outputs": [
    {
     "name": "stdout",
     "output_type": "stream",
     "text": [
      "[0 1 2 3 4 5 6 7 8 9] <class 'numpy.ndarray'>\n",
      "shape of a= (10,)\n",
      "dimension of a= 1\n"
     ]
    }
   ],
   "source": [
    "import numpy as nd\n",
    "a=nd.arange(0,10)\n",
    "print(a,type(a))\n",
    "print(\"shape of a=\",a.shape) #returns total number of elements in array\n",
    "print(\"dimension of a=\",a.ndim) #returns number of dimensions of array"
   ]
  },
  {
   "cell_type": "code",
   "execution_count": 5,
   "id": "276b30e4",
   "metadata": {},
   "outputs": [
    {
     "name": "stdout",
     "output_type": "stream",
     "text": [
      "converted array= [[0 1 2 3 4]\n",
      " [5 6 7 8 9]]\n"
     ]
    }
   ],
   "source": [
    "b=a.reshape(2,5) #here 2 is no.of rows and 5 is no.of colmns\n",
    "print(\"converted array=\",b)"
   ]
  },
  {
   "cell_type": "code",
   "execution_count": 6,
   "id": "bfad370f",
   "metadata": {},
   "outputs": [
    {
     "name": "stdout",
     "output_type": "stream",
     "text": [
      "[20 22 24 26 28 30 32 34 36 38 40 42]\n"
     ]
    }
   ],
   "source": [
    "import numpy as nd\n",
    "c=nd.arange(20,44,2)\n",
    "print(c)"
   ]
  },
  {
   "cell_type": "code",
   "execution_count": 8,
   "id": "ceb0fbe8",
   "metadata": {},
   "outputs": [
    {
     "name": "stdout",
     "output_type": "stream",
     "text": [
      "[[[20 22]\n",
      "  [24 26]]\n",
      "\n",
      " [[28 30]\n",
      "  [32 34]]\n",
      "\n",
      " [[36 38]\n",
      "  [40 42]]]\n"
     ]
    }
   ],
   "source": [
    "d=c.reshape(3,2,2) #here 3 is no.of matrixes,2 is no.of rows and 2 is no.of colmns\n",
    "print(d)"
   ]
  },
  {
   "attachments": {},
   "cell_type": "markdown",
   "id": "482772d6",
   "metadata": {},
   "source": [
    "3.ZEROS():-\n",
    "===========\n",
    "    =>Is used to create a matrix with all zeros.\n",
    "    =====================================================\n",
    "          SYNTAX:- varname=nd.zeros(shape,dtype)\n",
    "    =====================================================\n",
    "    => here dtype is optional,by default it takes float\n",
    "    => here shape is 1-dimensional or 2-dimensional."
   ]
  },
  {
   "cell_type": "code",
   "execution_count": 14,
   "id": "ddcf8121",
   "metadata": {},
   "outputs": [
    {
     "name": "stdout",
     "output_type": "stream",
     "text": [
      "[0. 0. 0. 0.]\n",
      "shape= (4,)\n"
     ]
    }
   ],
   "source": [
    "import numpy as nd\n",
    "a=nd.zeros(4)\n",
    "print(a)\n",
    "print(\"shape=\",a.shape)"
   ]
  },
  {
   "cell_type": "code",
   "execution_count": 16,
   "id": "dcec270f",
   "metadata": {},
   "outputs": [
    {
     "name": "stdout",
     "output_type": "stream",
     "text": [
      "[[0 0 0]\n",
      " [0 0 0]\n",
      " [0 0 0]]\n",
      "shape= (3, 3)\n"
     ]
    }
   ],
   "source": [
    "import numpy as nd\n",
    "b=nd.zeros((3,3),dtype=int)\n",
    "print(b)\n",
    "print(\"shape=\",b.shape)"
   ]
  },
  {
   "cell_type": "markdown",
   "id": "76439005",
   "metadata": {},
   "source": [
    "4.Ones():-\n",
    "=============\n",
    "    =>Is used to create a matrix with all ones.\n",
    "    =====================================================\n",
    "      SYNTAX:- varname=nd.ones(shape,dtype)\n",
    "    =====================================================\n",
    "    => here dtype is optional,by default it takes float\n",
    "    => here shape is 1-dimensional or 2-dimensional."
   ]
  },
  {
   "cell_type": "code",
   "execution_count": 21,
   "id": "122c1396",
   "metadata": {},
   "outputs": [
    {
     "name": "stdout",
     "output_type": "stream",
     "text": [
      "[[1. 1. 1. 1.]\n",
      " [1. 1. 1. 1.]\n",
      " [1. 1. 1. 1.]\n",
      " [1. 1. 1. 1.]]\n"
     ]
    }
   ],
   "source": [
    "import numpy as nd\n",
    "a=nd.ones((4,4))\n",
    "print(a)"
   ]
  },
  {
   "cell_type": "code",
   "execution_count": 22,
   "id": "420666a5",
   "metadata": {},
   "outputs": [
    {
     "name": "stdout",
     "output_type": "stream",
     "text": [
      "datatype of a= float64\n",
      "shape= (4, 4)\n"
     ]
    }
   ],
   "source": [
    "print(\"datatype of a=\",a.dtype)\n",
    "print(\"shape=\",a.shape)"
   ]
  },
  {
   "cell_type": "markdown",
   "id": "2484b728",
   "metadata": {},
   "source": [
    "5.full():-\n",
    "===========\n",
    "    => This is used to create a matrix with user specified value.\n",
    "    =====================================================\n",
    "      SYNTAX:- varname=nd.full(shape,full_value,dtype)\n",
    "    =====================================================\n",
    "    =>here full_value is user-defined"
   ]
  },
  {
   "cell_type": "code",
   "execution_count": 23,
   "id": "e6d00cab",
   "metadata": {},
   "outputs": [
    {
     "name": "stdout",
     "output_type": "stream",
     "text": [
      "[9 9 9 9]\n"
     ]
    }
   ],
   "source": [
    "a=nd.full(4,9)\n",
    "print(a)"
   ]
  },
  {
   "cell_type": "code",
   "execution_count": 26,
   "id": "27196009",
   "metadata": {},
   "outputs": [
    {
     "name": "stdout",
     "output_type": "stream",
     "text": [
      "[[25 25 25]\n",
      " [25 25 25]\n",
      " [25 25 25]]\n",
      "shape of b= (3, 3)\n",
      "dimension= 2\n"
     ]
    }
   ],
   "source": [
    "b=nd.full((3,3),25,dtype=int)\n",
    "print(b)\n",
    "print(\"shape of b=\",b.shape)\n",
    "print(\"dimension=\",b.ndim)"
   ]
  },
  {
   "cell_type": "markdown",
   "id": "33b6db54",
   "metadata": {},
   "source": [
    "6.EYE():-\n",
    "==========\n",
    "        ==========================================================\n",
    "                  SYNTAX:-nd.eye(N,M=None,K=0,dtype)\n",
    "        ==========================================================\n",
    "        => here N represents no.of rows.\n",
    "        => M represents no.of columns,we can't mention M value default it takes N value considered as M value.\n",
    "        => if we specify M value then it gives (N by M) matrix and remaining values filled with zero's.\n",
    "        =>here K represents principal diagonal.\n",
    "               * k=0 then it filled principle diagonal and it is default\n",
    "               * K=-1,-2,-3... then it consider below principle diagonal.\n",
    "               * k=1,2,3... then it is consider as above priciple diagonal."
   ]
  },
  {
   "cell_type": "code",
   "execution_count": 28,
   "id": "c6935322",
   "metadata": {},
   "outputs": [
    {
     "name": "stdout",
     "output_type": "stream",
     "text": [
      "[[1 0 0]\n",
      " [0 1 0]\n",
      " [0 0 1]]\n"
     ]
    }
   ],
   "source": [
    "a=nd.eye(3,M=None,k=0,dtype=int)\n",
    "print(a)"
   ]
  },
  {
   "cell_type": "code",
   "execution_count": 30,
   "id": "e2678b2b",
   "metadata": {},
   "outputs": [
    {
     "name": "stdout",
     "output_type": "stream",
     "text": [
      "[[1. 0. 0. 0.]\n",
      " [0. 1. 0. 0.]\n",
      " [0. 0. 1. 0.]]\n"
     ]
    }
   ],
   "source": [
    "b=nd.eye(3,4,k=0)\n",
    "print(b)"
   ]
  },
  {
   "cell_type": "code",
   "execution_count": 33,
   "id": "1ac6879e",
   "metadata": {},
   "outputs": [
    {
     "name": "stdout",
     "output_type": "stream",
     "text": [
      "[[1 0 0 0 0 0 0 0]\n",
      " [0 1 0 0 0 0 0 0]\n",
      " [0 0 1 0 0 0 0 0]\n",
      " [0 0 0 1 0 0 0 0]\n",
      " [0 0 0 0 1 0 0 0]\n",
      " [0 0 0 0 0 1 0 0]\n",
      " [0 0 0 0 0 0 1 0]\n",
      " [0 0 0 0 0 0 0 1]]\n"
     ]
    }
   ],
   "source": [
    "c=nd.eye(8,k=0,dtype=int)\n",
    "print(c)"
   ]
  },
  {
   "cell_type": "code",
   "execution_count": 35,
   "id": "5985b141",
   "metadata": {},
   "outputs": [
    {
     "name": "stdout",
     "output_type": "stream",
     "text": [
      "[[0 0 0 0 0 0 0 0]\n",
      " [1 0 0 0 0 0 0 0]\n",
      " [0 1 0 0 0 0 0 0]\n",
      " [0 0 1 0 0 0 0 0]\n",
      " [0 0 0 1 0 0 0 0]\n",
      " [0 0 0 0 1 0 0 0]\n",
      " [0 0 0 0 0 1 0 0]\n",
      " [0 0 0 0 0 0 1 0]]\n"
     ]
    }
   ],
   "source": [
    "c=nd.eye(8,k=-1,dtype=int)\n",
    "print(c)"
   ]
  },
  {
   "cell_type": "code",
   "execution_count": 37,
   "id": "80c4cb0b",
   "metadata": {},
   "outputs": [
    {
     "name": "stdout",
     "output_type": "stream",
     "text": [
      "[[0 0 0 1 0 0 0 0]\n",
      " [0 0 0 0 1 0 0 0]\n",
      " [0 0 0 0 0 1 0 0]\n",
      " [0 0 0 0 0 0 1 0]\n",
      " [0 0 0 0 0 0 0 1]\n",
      " [0 0 0 0 0 0 0 0]\n",
      " [0 0 0 0 0 0 0 0]\n",
      " [0 0 0 0 0 0 0 0]]\n"
     ]
    }
   ],
   "source": [
    "c=nd.eye(8,k=3,dtype=int)\n",
    "print(c)"
   ]
  },
  {
   "cell_type": "markdown",
   "id": "8c0ba0c5",
   "metadata": {},
   "source": [
    "7.IDENTITY():-\n",
    "=============\n",
    "    => This function generates only square identity matrix.\n",
    "    =============================================\n",
    "         SYNTAX:nd.identity(shape,dtype)\n",
    "    =============================================\n",
    "    => here shape is specifies like n by n matrix."
   ]
  },
  {
   "cell_type": "code",
   "execution_count": 38,
   "id": "58c76fb2",
   "metadata": {},
   "outputs": [
    {
     "name": "stdout",
     "output_type": "stream",
     "text": [
      "[[1. 0. 0. 0. 0. 0.]\n",
      " [0. 1. 0. 0. 0. 0.]\n",
      " [0. 0. 1. 0. 0. 0.]\n",
      " [0. 0. 0. 1. 0. 0.]\n",
      " [0. 0. 0. 0. 1. 0.]\n",
      " [0. 0. 0. 0. 0. 1.]]\n"
     ]
    }
   ],
   "source": [
    "a=nd.identity(6)\n",
    "print(a)"
   ]
  },
  {
   "cell_type": "code",
   "execution_count": 39,
   "id": "172f752c",
   "metadata": {},
   "outputs": [
    {
     "ename": "TypeError",
     "evalue": "identity() got multiple values for argument 'dtype'",
     "output_type": "error",
     "traceback": [
      "\u001b[1;31m---------------------------------------------------------------------------\u001b[0m",
      "\u001b[1;31mTypeError\u001b[0m                                 Traceback (most recent call last)",
      "Cell \u001b[1;32mIn[39], line 1\u001b[0m\n\u001b[1;32m----> 1\u001b[0m b\u001b[38;5;241m=\u001b[39mnd\u001b[38;5;241m.\u001b[39midentity(\u001b[38;5;241m3\u001b[39m,\u001b[38;5;241m4\u001b[39m,dtype\u001b[38;5;241m=\u001b[39m\u001b[38;5;28mint\u001b[39m)\n\u001b[0;32m      2\u001b[0m \u001b[38;5;28mprint\u001b[39m(b)\n",
      "\u001b[1;31mTypeError\u001b[0m: identity() got multiple values for argument 'dtype'"
     ]
    }
   ],
   "source": [
    "b=nd.identity(3,4,dtype=int)\n",
    "print(b)"
   ]
  },
  {
   "cell_type": "code",
   "execution_count": 40,
   "id": "8bfe85a6",
   "metadata": {},
   "outputs": [
    {
     "name": "stdout",
     "output_type": "stream",
     "text": [
      "[[1 0 0 0 0 0 0 0]\n",
      " [0 1 0 0 0 0 0 0]\n",
      " [0 0 1 0 0 0 0 0]\n",
      " [0 0 0 1 0 0 0 0]\n",
      " [0 0 0 0 1 0 0 0]\n",
      " [0 0 0 0 0 1 0 0]\n",
      " [0 0 0 0 0 0 1 0]\n",
      " [0 0 0 0 0 0 0 1]]\n"
     ]
    }
   ],
   "source": [
    "b=nd.identity(8,dtype=int)\n",
    "print(b)"
   ]
  }
 ],
 "metadata": {
  "kernelspec": {
   "display_name": "Python 3 (ipykernel)",
   "language": "python",
   "name": "python3"
  },
  "language_info": {
   "codemirror_mode": {
    "name": "ipython",
    "version": 3
   },
   "file_extension": ".py",
   "mimetype": "text/x-python",
   "name": "python",
   "nbconvert_exporter": "python",
   "pygments_lexer": "ipython3",
   "version": "3.11.5"
  }
 },
 "nbformat": 4,
 "nbformat_minor": 5
}
