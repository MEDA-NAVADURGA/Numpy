{
 "cells": [
  {
   "cell_type": "markdown",
   "id": "4ffb6913",
   "metadata": {},
   "source": [
    "                                   ======================================\n",
    "                                      Numpy----STATISTICAL OPERATIONS\n",
    "                                   ======================================"
   ]
  },
  {
   "cell_type": "markdown",
   "id": "39e395e8",
   "metadata": {},
   "source": [
    "=> The most essential statistical operations can be performed by using the following functions.\n",
    "\n",
    "\n",
    "                     1.amax()\n",
    "                     2.amin()\n",
    "                     3.mean()\n",
    "                     4.median()\n",
    "                     5.var()\n",
    "                     6.std()\n",
    "\n",
    "\n",
    "=>NOTE:-mode() is not present in numpy module.but mode(),multimode() is present in statistics module."
   ]
  },
  {
   "cell_type": "markdown",
   "id": "5ddf118a",
   "metadata": {},
   "source": [
    "1.amax():-\n",
    "=========\n",
    "           *This function is used for finding maximun elements from any nd array object.\n",
    "           ====================================================\n",
    "               SYNTAX:- numpy.amax(ndarray,axis)\n",
    "           ====================================================\n",
    "         => here when we specify axis=0 then it will considered as column.\n",
    "         => here when we specify axis=1 then it will considered as row."
   ]
  },
  {
   "cell_type": "code",
   "execution_count": 9,
   "id": "4d0bf5b0",
   "metadata": {},
   "outputs": [
    {
     "name": "stdout",
     "output_type": "stream",
     "text": [
      "array=  [10 20 30 40 50]\n",
      "max element in a=  50\n"
     ]
    }
   ],
   "source": [
    "import numpy as np\n",
    "l1=[10,20,30,40,50]\n",
    "a=np.array(l1)\n",
    "print(\"array= \",a)\n",
    "print(\"max element in a= \",np.amax(a))"
   ]
  },
  {
   "cell_type": "code",
   "execution_count": 10,
   "id": "cd6ce56c",
   "metadata": {},
   "outputs": [
    {
     "name": "stdout",
     "output_type": "stream",
     "text": [
      "max elements from column wise in b=  [40 50 60]\n",
      "max elements from row wise in b=  [30 60]\n"
     ]
    }
   ],
   "source": [
    "b=np.array([[10,20,30],[40,50,60]])\n",
    "print(\"max elements from column wise in b= \",np.amax(b,axis=0))\n",
    "print(\"max elements from row wise in b= \",np.amax(b,axis=1))"
   ]
  },
  {
   "cell_type": "markdown",
   "id": "a0f6b513",
   "metadata": {},
   "source": [
    "1.amax():-\n",
    "========\n",
    "       *This function is used for finding minimum elements from any nd array object.\n",
    "       ====================================================\n",
    "           SYNTAX:- numpy.amin(ndarray,axis)\n",
    "       ====================================================\n",
    "     => here when we specify axis=0 then it will considered as column.\n",
    "     => here when we specify axis=1 then it will considered as row."
   ]
  },
  {
   "cell_type": "code",
   "execution_count": 12,
   "id": "0d44d687",
   "metadata": {},
   "outputs": [
    {
     "name": "stdout",
     "output_type": "stream",
     "text": [
      "min elements from column wise in b=  [  643 87678  8564  7562]\n",
      "max elements from row wise in b=  [  987 87678]\n"
     ]
    }
   ],
   "source": [
    "c=np.array([[143,754,987,654],[643,87678,8564,7562]])\n",
    "print(\"min elements from column wise in b= \",np.amax(c,axis=0))\n",
    "print(\"max elements from row wise in b= \",np.amax(c,axis=1))"
   ]
  },
  {
   "cell_type": "code",
   "execution_count": 14,
   "id": "dabe5d61",
   "metadata": {},
   "outputs": [
    {
     "name": "stdout",
     "output_type": "stream",
     "text": [
      "min elements from column wise in b=  [5 6 7 8]\n",
      "max elements from row wise in b=  [4 8]\n"
     ]
    }
   ],
   "source": [
    "d=np.array([[1,2,3,4],[5,6,7,8]])\n",
    "print(\"min elements from column wise in b= \",np.amax(d,axis=0))\n",
    "print(\"max elements from row wise in b= \",np.amax(d,axis=1))"
   ]
  },
  {
   "cell_type": "markdown",
   "id": "1d94c3f3",
   "metadata": {},
   "source": [
    "mean():-\n",
    "========\n",
    "                *this function is used to find the mean(sum of all elements divided by total no.of elements) of nd array.\n",
    "                                   =================================\n",
    "                                      SYSNTAX:- numpy.mean(array)\n",
    "                                   ================================="
   ]
  },
  {
   "cell_type": "code",
   "execution_count": 28,
   "id": "c2300103",
   "metadata": {},
   "outputs": [
    {
     "name": "stdout",
     "output_type": "stream",
     "text": [
      "mean of the array by row wise=  [2.5 6.5]\n"
     ]
    }
   ],
   "source": [
    "d=np.array([[1,2,3,4],[5,6,7,8]])\n",
    "print(\"mean of the array by row wise= \",np.mean(d,axis=1))"
   ]
  },
  {
   "cell_type": "code",
   "execution_count": 29,
   "id": "8a9400b1",
   "metadata": {},
   "outputs": [
    {
     "name": "stdout",
     "output_type": "stream",
     "text": [
      "mean of the array by column wise=  [25. 35. 45.]\n"
     ]
    }
   ],
   "source": [
    "D=np.array([[10,20,30],[40,50,60]])\n",
    "print(\"mean of the array by column wise= \",np.mean(D,axis=0))"
   ]
  },
  {
   "cell_type": "markdown",
   "id": "8e9cc8fa",
   "metadata": {},
   "source": [
    "median():-\n",
    "==========\n",
    "            *this function is used to find the median(the middle value in array) of nd array.\n",
    "                               =================================\n",
    "                                  SYSNTAX:- numpy.median(array)\n",
    "                               =================================\n",
    "            => if total number of elements are even then median is middle of the value.\n",
    "            => if the total number of elements are odd then median is sum of two middle values divided by 2"
   ]
  },
  {
   "cell_type": "code",
   "execution_count": 18,
   "id": "872f5e79",
   "metadata": {},
   "outputs": [
    {
     "name": "stdout",
     "output_type": "stream",
     "text": [
      "median of the array=  35.0\n"
     ]
    }
   ],
   "source": [
    "D=np.array([[10,20,30],[40,50,60]])\n",
    "print(\"median of the array= \",np.median(D))"
   ]
  },
  {
   "cell_type": "code",
   "execution_count": 27,
   "id": "9aff0219",
   "metadata": {},
   "outputs": [
    {
     "name": "stdout",
     "output_type": "stream",
     "text": [
      "median of the array by column wise=  [3. 4. 5. 6.]\n"
     ]
    }
   ],
   "source": [
    "d=np.array([[1,2,3,4],[5,6,7,8]])\n",
    "print(\"median of the array by column wise= \",np.median(d,axis=0))"
   ]
  },
  {
   "cell_type": "code",
   "execution_count": 26,
   "id": "a417d65e",
   "metadata": {},
   "outputs": [
    {
     "name": "stdout",
     "output_type": "stream",
     "text": [
      "median of the array by row wise=  [ 232. 4232.]\n"
     ]
    }
   ],
   "source": [
    "e=np.array([[232,34,23423],[3423,4232,43546]])\n",
    "print(\"median of the array by row wise= \",np.median(e,axis=1))"
   ]
  },
  {
   "cell_type": "markdown",
   "id": "a5612c4b",
   "metadata": {},
   "source": [
    "var():-\n",
    "======\n",
    "          *this function returns variance(square(x-mean)/total no.of elements) of the nd array.\n",
    "                                          -----------------------------------\n",
    "                             ===================================\n",
    "                                   SYNTAX:-numpy.var()\n",
    "                             ==================================="
   ]
  },
  {
   "cell_type": "code",
   "execution_count": 31,
   "id": "5315db1e",
   "metadata": {},
   "outputs": [
    {
     "name": "stdout",
     "output_type": "stream",
     "text": [
      "variance of the array e =  256636793.55555558\n"
     ]
    }
   ],
   "source": [
    "e=np.array([[232,34,23423],[3423,4232,43546]])\n",
    "print(\"variance of the array e = \",np.var(e))"
   ]
  },
  {
   "cell_type": "code",
   "execution_count": 32,
   "id": "e9060bf1",
   "metadata": {},
   "outputs": [
    {
     "name": "stdout",
     "output_type": "stream",
     "text": [
      "variance of the array by column wise =  [2.54562025e+06 4.40580100e+06 1.01233782e+08]\n"
     ]
    }
   ],
   "source": [
    "print(\"variance of the array by column wise = \",np.var(e,axis=0))"
   ]
  },
  {
   "cell_type": "code",
   "execution_count": 34,
   "id": "d958f55b",
   "metadata": {},
   "outputs": [
    {
     "name": "stdout",
     "output_type": "stream",
     "text": [
      "variance of the array by row wise =  [1.20545223e+08 3.50677801e+08]\n"
     ]
    }
   ],
   "source": [
    "print(\"variance of the array by row wise = \",np.var(e,axis=1))"
   ]
  },
  {
   "cell_type": "markdown",
   "id": "b8b1ebfb",
   "metadata": {},
   "source": [
    "std():-\n",
    "========\n",
    "      *this function returns standard deviation(square root of variance ) of the nd array.\n",
    "                                      -----------------------------------\n",
    "                         ===================================\n",
    "                               SYNTAX:-numpy.var()\n",
    "                         ==================================="
   ]
  },
  {
   "cell_type": "code",
   "execution_count": 35,
   "id": "94d39b01",
   "metadata": {},
   "outputs": [
    {
     "name": "stdout",
     "output_type": "stream",
     "text": [
      "standard deviation of the array e =  16019.887438916528\n"
     ]
    }
   ],
   "source": [
    "e=np.array([[232,34,23423],[3423,4232,43546]])\n",
    "print(\"standard deviation of the array e = \",np.std(e))"
   ]
  },
  {
   "cell_type": "code",
   "execution_count": 37,
   "id": "6843ad0a",
   "metadata": {},
   "outputs": [
    {
     "name": "stdout",
     "output_type": "stream",
     "text": [
      "standard deviation of the array by column wise =  [ 1595.5  2099.  10061.5]\n"
     ]
    }
   ],
   "source": [
    "print(\"standard deviation of the array by column wise = \",np.std(e,axis=0))"
   ]
  },
  {
   "cell_type": "code",
   "execution_count": 39,
   "id": "b8aada77",
   "metadata": {},
   "outputs": [
    {
     "name": "stdout",
     "output_type": "stream",
     "text": [
      "standard deviation of the array by row wise =  [10979.30885297 18726.3931569 ]\n"
     ]
    }
   ],
   "source": [
    "print(\"standard deviation of the array by row wise = \",np.std(e,axis=1))"
   ]
  }
 ],
 "metadata": {
  "kernelspec": {
   "display_name": "Python 3 (ipykernel)",
   "language": "python",
   "name": "python3"
  },
  "language_info": {
   "codemirror_mode": {
    "name": "ipython",
    "version": 3
   },
   "file_extension": ".py",
   "mimetype": "text/x-python",
   "name": "python",
   "nbconvert_exporter": "python",
   "pygments_lexer": "ipython3",
   "version": "3.11.5"
  }
 },
 "nbformat": 4,
 "nbformat_minor": 5
}
