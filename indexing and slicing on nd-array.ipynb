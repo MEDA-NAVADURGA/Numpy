{
 "cells": [
  {
   "cell_type": "markdown",
   "id": "675b1b43",
   "metadata": {},
   "source": [
    "indexing on nd-array\n",
    "========"
   ]
  },
  {
   "cell_type": "markdown",
   "id": "c75f556f",
   "metadata": {},
   "source": [
    "       =========================\n",
    "             indexing=:-\n",
    "       =========================\n",
    "    if we want to access a single element from a array then the must go for indexing."
   ]
  },
  {
   "cell_type": "markdown",
   "id": "4a7e401b",
   "metadata": {},
   "source": [
    "               ===============================================\n",
    "                Accessing single element from 1D-Array:-\n",
    "               ===============================================\n",
    "   ----------------------------------\n",
    "    syntax=    array_name[index]\n",
    "   ----------------------------------\n",
    "    => here index value is either positive or negative.\n",
    " ---------\n",
    "   EX=\n",
    " ---------"
   ]
  },
  {
   "cell_type": "code",
   "execution_count": 2,
   "id": "b750897c",
   "metadata": {},
   "outputs": [
    {
     "name": "stdout",
     "output_type": "stream",
     "text": [
      "[1 2 3 4 5 6 7 8]\n"
     ]
    }
   ],
   "source": [
    "import numpy as np\n",
    "a=np.array([1,2,3,4,5,6,7,8])\n",
    "print(a)"
   ]
  },
  {
   "cell_type": "code",
   "execution_count": 4,
   "id": "f8c94a3b",
   "metadata": {},
   "outputs": [
    {
     "name": "stdout",
     "output_type": "stream",
     "text": [
      "5\n"
     ]
    }
   ],
   "source": [
    "#accessing 5 from a.\n",
    "print(a[4])"
   ]
  },
  {
   "cell_type": "code",
   "execution_count": 7,
   "id": "c1879ee6",
   "metadata": {},
   "outputs": [
    {
     "name": "stdout",
     "output_type": "stream",
     "text": [
      "2\n"
     ]
    }
   ],
   "source": [
    "#accessing 2 by using negative indexing.\n",
    "print(a[-7])"
   ]
  },
  {
   "cell_type": "markdown",
   "id": "1885bcc4",
   "metadata": {},
   "source": [
    "               ===============================================\n",
    "                Accessing single element from 2D-Array:-\n",
    "               ===============================================\n",
    "   ----------------------------------\n",
    "    syntax=    array_name[row index,column index ]\n",
    "   ----------------------------------\n",
    "    => here index of row and columns are is either positive or negative.\n",
    " ---------\n",
    "   EX=\n",
    " ---------"
   ]
  },
  {
   "cell_type": "code",
   "execution_count": 8,
   "id": "02dadb50",
   "metadata": {},
   "outputs": [
    {
     "name": "stdout",
     "output_type": "stream",
     "text": [
      "1\n",
      "[10 20 30 40 50 60 70 80 90]\n"
     ]
    }
   ],
   "source": [
    "a=np.array([10,20,30,40,50,60,70,80,90])\n",
    "print(a.ndim)\n",
    "print(a)"
   ]
  },
  {
   "cell_type": "code",
   "execution_count": 11,
   "id": "03e2d276",
   "metadata": {},
   "outputs": [
    {
     "name": "stdout",
     "output_type": "stream",
     "text": [
      "[[10 20 30]\n",
      " [40 50 60]\n",
      " [70 80 90]]\n"
     ]
    }
   ],
   "source": [
    "b=a.reshape(3,3)\n",
    "print(b)"
   ]
  },
  {
   "cell_type": "code",
   "execution_count": 13,
   "id": "052a02bb",
   "metadata": {},
   "outputs": [
    {
     "name": "stdout",
     "output_type": "stream",
     "text": [
      "40\n"
     ]
    }
   ],
   "source": [
    "#accesing 40 from b array.\n",
    "print(b[1,0])"
   ]
  },
  {
   "cell_type": "code",
   "execution_count": 15,
   "id": "a9b741a3",
   "metadata": {},
   "outputs": [
    {
     "name": "stdout",
     "output_type": "stream",
     "text": [
      "40\n"
     ]
    }
   ],
   "source": [
    "#accesing 40 from b array.\n",
    "print(b[1][0])"
   ]
  },
  {
   "cell_type": "code",
   "execution_count": 17,
   "id": "7ef0f960",
   "metadata": {},
   "outputs": [
    {
     "name": "stdout",
     "output_type": "stream",
     "text": [
      "40\n"
     ]
    }
   ],
   "source": [
    "#accesing 40 by using negative indexing.\n",
    "print(b[-2,-3])"
   ]
  },
  {
   "cell_type": "code",
   "execution_count": 21,
   "id": "af20420c",
   "metadata": {},
   "outputs": [
    {
     "name": "stdout",
     "output_type": "stream",
     "text": [
      "20\n"
     ]
    }
   ],
   "source": [
    "#accesing 20 by using positive and negative indexing.\n",
    "print(b[0,-2])"
   ]
  },
  {
   "cell_type": "code",
   "execution_count": 22,
   "id": "e914fd41",
   "metadata": {},
   "outputs": [
    {
     "data": {
      "text/plain": [
       "2"
      ]
     },
     "execution_count": 22,
     "metadata": {},
     "output_type": "execute_result"
    }
   ],
   "source": [
    "b.ndim"
   ]
  },
  {
   "cell_type": "markdown",
   "id": "44d11d87",
   "metadata": {},
   "source": [
    "          ===============================================\n",
    "            Accessing single element from 3D-Array:-\n",
    "           ===============================================\n",
    "       ------------------------------------------------------------------------\n",
    "        syntax=    array_name[index of matrix,row index, column index ]\n",
    "       ------------------------------------------------------------------------\n",
    "\n",
    "=> here index of row and columns are is either positive or negative."
   ]
  },
  {
   "cell_type": "code",
   "execution_count": 24,
   "id": "8519e8ea",
   "metadata": {},
   "outputs": [
    {
     "data": {
      "text/plain": [
       "1"
      ]
     },
     "execution_count": 24,
     "metadata": {},
     "output_type": "execute_result"
    }
   ],
   "source": [
    "a=np.array([28,29,23,40,61,38,91,37])\n",
    "a.ndim"
   ]
  },
  {
   "cell_type": "code",
   "execution_count": 28,
   "id": "dd39ad4e",
   "metadata": {},
   "outputs": [
    {
     "name": "stdout",
     "output_type": "stream",
     "text": [
      "[[[28 29]\n",
      "  [23 40]]\n",
      "\n",
      " [[61 38]\n",
      "  [91 37]]]\n",
      "3\n"
     ]
    }
   ],
   "source": [
    "b=a.reshape(2,2,2)\n",
    "print(b)\n",
    "print(b.ndim)"
   ]
  },
  {
   "cell_type": "markdown",
   "id": "3bdb73fa",
   "metadata": {},
   "source": [
    "SLICING:=\n",
    "=========="
   ]
  },
  {
   "cell_type": "markdown",
   "id": "e73be9b3",
   "metadata": {},
   "source": [
    "       =====================\n",
    "        1D Array slicing:=\n",
    "       =====================\n",
    "       => if we want range of elements from array then we go for slicing.\n",
    "       ------------------------------------------------\n",
    "           syntax:- array_name(begin:end:step)\n",
    "       ------------------------------------------------\n",
    "      => here the begin,end,step values are positive or negative."
   ]
  },
  {
   "cell_type": "code",
   "execution_count": 2,
   "id": "5e2e9a43",
   "metadata": {},
   "outputs": [
    {
     "name": "stdout",
     "output_type": "stream",
     "text": [
      "[ 12  82  34  98  92  54  42 143 963 921 982   4]\n",
      "1\n"
     ]
    }
   ],
   "source": [
    "import numpy as np\n",
    "a=np.array([12,82,34,98,92,54,42,143,963,921,982,4])\n",
    "print(a)\n",
    "print(a.ndim)"
   ]
  },
  {
   "cell_type": "code",
   "execution_count": 5,
   "id": "2678014d",
   "metadata": {},
   "outputs": [
    {
     "name": "stdout",
     "output_type": "stream",
     "text": [
      "[ 12  82  34  98  92  54  42 143]\n"
     ]
    }
   ],
   "source": [
    "#accessing from 12 to 143 with positive indexing.\n",
    "print(a[0:8])"
   ]
  },
  {
   "cell_type": "code",
   "execution_count": 24,
   "id": "165c313a",
   "metadata": {},
   "outputs": [
    {
     "name": "stdout",
     "output_type": "stream",
     "text": [
      "[ 12  82  34  98  92  54  42 143]\n"
     ]
    }
   ],
   "source": [
    "#accessing from 12 to 143 with negative indexing.\n",
    "print(a[-12:-4])"
   ]
  },
  {
   "cell_type": "code",
   "execution_count": 27,
   "id": "18289f10",
   "metadata": {},
   "outputs": [
    {
     "name": "stdout",
     "output_type": "stream",
     "text": [
      "[ 82  98  54 143 921   4]\n"
     ]
    }
   ],
   "source": [
    "#accessing only 82,98,54,143,921,4\n",
    "print(a[1::2])"
   ]
  },
  {
   "cell_type": "code",
   "execution_count": 28,
   "id": "37685ac4",
   "metadata": {},
   "outputs": [
    {
     "name": "stdout",
     "output_type": "stream",
     "text": [
      "[  4 921 143  54  98  82]\n"
     ]
    }
   ],
   "source": [
    "#accessing only 4,921,143,54,98,82\n",
    "print(a[-1:-12:-2])"
   ]
  },
  {
   "cell_type": "markdown",
   "id": "2aee2779",
   "metadata": {},
   "source": [
    "       =====================\n",
    "        2D Array slicing:=\n",
    "       =====================\n",
    "       => if we want range of elements from array then we go for slicing.\n",
    "       ------------------------------------------------\n",
    "           syntax:- array_name(begin:end:step for row and begin:end:step for column)\n",
    "       ------------------------------------------------\n",
    "      => here the begin,end,step values are positive and negative."
   ]
  },
  {
   "cell_type": "code",
   "execution_count": 30,
   "id": "db62d200",
   "metadata": {},
   "outputs": [
    {
     "name": "stdout",
     "output_type": "stream",
     "text": [
      "[ 16   8   4   6   0  52 986 432 987]\n"
     ]
    }
   ],
   "source": [
    "import numpy as np\n",
    "a=np.array([16,8,4,6,0,52,986,432,987])\n",
    "print(a)"
   ]
  },
  {
   "cell_type": "code",
   "execution_count": 33,
   "id": "d5929f84",
   "metadata": {},
   "outputs": [
    {
     "name": "stdout",
     "output_type": "stream",
     "text": [
      "[[ 16   8   4]\n",
      " [  6   0  52]\n",
      " [986 432 987]]\n"
     ]
    }
   ],
   "source": [
    "b=a.reshape(3,3)\n",
    "print(b)"
   ]
  },
  {
   "cell_type": "code",
   "execution_count": 36,
   "id": "942a9be6",
   "metadata": {},
   "outputs": [
    {
     "name": "stdout",
     "output_type": "stream",
     "text": [
      "[[  0  52]\n",
      " [432 987]]\n"
     ]
    }
   ],
   "source": [
    "#accessing from 0 to 52 and 432 to 987\n",
    "print(b[1:3,1:3])"
   ]
  },
  {
   "cell_type": "code",
   "execution_count": 45,
   "id": "f6953792",
   "metadata": {},
   "outputs": [
    {
     "name": "stdout",
     "output_type": "stream",
     "text": [
      "[[ 16   8   4]\n",
      " [  6   0  52]\n",
      " [986 432 987]]\n"
     ]
    }
   ],
   "source": [
    "#accesing   0  52 and 432 987 by using negative indexing.\n",
    "print(b[:,:])"
   ]
  },
  {
   "cell_type": "code",
   "execution_count": 49,
   "id": "66a356c9",
   "metadata": {},
   "outputs": [
    {
     "name": "stdout",
     "output_type": "stream",
     "text": [
      "[[16  4]\n",
      " [ 6 52]]\n"
     ]
    }
   ],
   "source": [
    "#accessing 16,4..6 and 52\n",
    "print(b[:2,::2])"
   ]
  },
  {
   "cell_type": "code",
   "execution_count": 62,
   "id": "9215b879",
   "metadata": {},
   "outputs": [
    {
     "name": "stdout",
     "output_type": "stream",
     "text": [
      "[[16  8]\n",
      " [ 6  0]]\n"
     ]
    }
   ],
   "source": [
    "print(b[-3:-1,-3:-1])"
   ]
  },
  {
   "cell_type": "code",
   "execution_count": 63,
   "id": "0fdc3f1f",
   "metadata": {},
   "outputs": [
    {
     "name": "stdout",
     "output_type": "stream",
     "text": [
      "[[  8   4]\n",
      " [  0  52]\n",
      " [432 987]]\n"
     ]
    }
   ],
   "source": [
    "print(b[-4:,-2:])"
   ]
  },
  {
   "cell_type": "markdown",
   "id": "76502e1d",
   "metadata": {},
   "source": [
    "advanced slicing:=\n",
    "============"
   ]
  },
  {
   "cell_type": "code",
   "execution_count": 73,
   "id": "b85cb95a",
   "metadata": {},
   "outputs": [
    {
     "name": "stdout",
     "output_type": "stream",
     "text": [
      "[ 16   0 987]\n"
     ]
    }
   ],
   "source": [
    "#accessing identity elements from b array.\n",
    "import numpy as np\n",
    "a=np.array([16,8,4,6,0,52,986,432,987])\n",
    "b=a.reshape(3,3)\n",
    "print(b[(0,1,2),(0,1,2)])"
   ]
  },
  {
   "cell_type": "code",
   "execution_count": 80,
   "id": "3ab693d5",
   "metadata": {},
   "outputs": [
    {
     "name": "stdout",
     "output_type": "stream",
     "text": [
      "[[ 16   8   4]\n",
      " [  6   0  52]\n",
      " [986 432 987]]\n",
      "===================================\n",
      "random elements= [  8   6  52 432]\n",
      "===================================\n"
     ]
    }
   ],
   "source": [
    "#accessing randomly from b.\n",
    "print(b)\n",
    "print(\"=\"*35)\n",
    "print(\"random elements=\",b[(0,1,1,2),(1,0,2,1)])\n",
    "print(\"=\"*35)"
   ]
  },
  {
   "cell_type": "markdown",
   "id": "23c5e3ef",
   "metadata": {},
   "source": [
    "       =====================\n",
    "        3D Array slicing:=\n",
    "       =====================\n",
    "       => if we want range of elements from array then we go for slicing.\n",
    "       -----------------------------------------------------------------------------------------------------\n",
    "           syntax:- array_name(matrix number slicing,begin:end:step for row and begin:end:step for column)\n",
    "       -----------------------------------------------------------------------------------------------------\n",
    "      => here the begin,end,step values are positive or negative."
   ]
  },
  {
   "cell_type": "code",
   "execution_count": 94,
   "id": "acf1bec2",
   "metadata": {},
   "outputs": [
    {
     "name": "stdout",
     "output_type": "stream",
     "text": [
      "[[[10 20]\n",
      "  [30 40]]\n",
      "\n",
      " [[50 60]\n",
      "  [70 70]]\n",
      "\n",
      " [[80 90]\n",
      "  [12 81]]]\n",
      "===================================\n",
      "[40 60 12]\n",
      "===================================\n",
      "[[[30 40]]\n",
      "\n",
      " [[70 70]]\n",
      "\n",
      " [[12 81]]]\n",
      "===================================\n"
     ]
    }
   ],
   "source": [
    "a=np.array([10,20,30,40,50,60,70,70,80,90,12,81])\n",
    "b=a.reshape(3,2,2)\n",
    "print(b)\n",
    "print(\"=\"*35)\n",
    "print(b[(0,1,2),(1,0,1),(1,1,0)])\n",
    "print(\"=\"*35)\n",
    "print(b[:,1:,0:])\n",
    "print(\"=\"*35)"
   ]
  },
  {
   "cell_type": "code",
   "execution_count": 95,
   "id": "cda9f494",
   "metadata": {},
   "outputs": [
    {
     "name": "stdout",
     "output_type": "stream",
     "text": [
      "[[20 40]\n",
      " [60 70]\n",
      " [90 81]]\n"
     ]
    }
   ],
   "source": [
    "print(b[:,0:,1])"
   ]
  },
  {
   "cell_type": "code",
   "execution_count": 98,
   "id": "4c8a37aa",
   "metadata": {},
   "outputs": [
    {
     "name": "stdout",
     "output_type": "stream",
     "text": [
      "[10 70]\n"
     ]
    }
   ],
   "source": [
    "#accessing elements randomly from b.\n",
    "print(b[(0,1),(0,1),(0,1)])"
   ]
  },
  {
   "cell_type": "code",
   "execution_count": 100,
   "id": "cd25f405",
   "metadata": {},
   "outputs": [
    {
     "name": "stdout",
     "output_type": "stream",
     "text": [
      "40\n"
     ]
    }
   ],
   "source": [
    "print(b[0,1,1])"
   ]
  },
  {
   "cell_type": "code",
   "execution_count": 101,
   "id": "bca4a071",
   "metadata": {},
   "outputs": [
    {
     "name": "stdout",
     "output_type": "stream",
     "text": [
      "12\n"
     ]
    }
   ],
   "source": [
    "print(b[(2,1,0)])"
   ]
  }
 ],
 "metadata": {
  "kernelspec": {
   "display_name": "Python 3 (ipykernel)",
   "language": "python",
   "name": "python3"
  },
  "language_info": {
   "codemirror_mode": {
    "name": "ipython",
    "version": 3
   },
   "file_extension": ".py",
   "mimetype": "text/x-python",
   "name": "python",
   "nbconvert_exporter": "python",
   "pygments_lexer": "ipython3",
   "version": "3.11.5"
  }
 },
 "nbformat": 4,
 "nbformat_minor": 5
}
